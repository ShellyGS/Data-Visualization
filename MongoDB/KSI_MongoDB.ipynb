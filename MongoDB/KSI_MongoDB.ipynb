{
 "cells": [
  {
   "cell_type": "markdown",
   "id": "78aea12c",
   "metadata": {},
   "source": [
    "The CSV file was imported into MongoDB using the following code in the terminal at the CSV file's path:\n",
    "mongoimport --type csv -d KSI_DB -c KSI_Toronto --headerline --drop KSI_cleaned.csv"
   ]
  },
  {
   "cell_type": "code",
   "execution_count": 1,
   "id": "3756da42",
   "metadata": {},
   "outputs": [],
   "source": [
    "from pymongo import MongoClient\n",
    "from pprint import pprint"
   ]
  },
  {
   "cell_type": "code",
   "execution_count": 2,
   "id": "4e3cb177",
   "metadata": {},
   "outputs": [],
   "source": [
    "mongo = MongoClient(port=27017)"
   ]
  },
  {
   "cell_type": "code",
   "execution_count": 5,
   "id": "206c7ae5",
   "metadata": {},
   "outputs": [
    {
     "data": {
      "text/plain": [
       "['KSI_DB', 'admin', 'config', 'local', 'met', 'uk_food']"
      ]
     },
     "execution_count": 5,
     "metadata": {},
     "output_type": "execute_result"
    }
   ],
   "source": [
    "# Confirming the creation of the database\n",
    "mongo.list_database_names()"
   ]
  },
  {
   "cell_type": "code",
   "execution_count": 6,
   "id": "2b43b512",
   "metadata": {},
   "outputs": [],
   "source": [
    "# Assinging the database to a variable \"KSI_db\" on PyMongo\n",
    "KSI_db = mongo['KSI_DB']"
   ]
  },
  {
   "cell_type": "code",
   "execution_count": 7,
   "id": "0001d26f",
   "metadata": {},
   "outputs": [
    {
     "data": {
      "text/plain": [
       "['KSI_Toronto']"
      ]
     },
     "execution_count": 7,
     "metadata": {},
     "output_type": "execute_result"
    }
   ],
   "source": [
    "# Confirming the creation of the correct collection inside the KSI_DB database\n",
    "KSI_db.list_collection_names()"
   ]
  },
  {
   "cell_type": "code",
   "execution_count": 8,
   "id": "8106108c",
   "metadata": {},
   "outputs": [],
   "source": [
    "# Assinging the collection to a variable \"KSI_Toronto\" on PyMongo\n",
    "KSI_Toronto = KSI_db['KSI_Toronto']"
   ]
  },
  {
   "cell_type": "code",
   "execution_count": 9,
   "id": "377ce260",
   "metadata": {},
   "outputs": [
    {
     "data": {
      "text/plain": [
       "{'_id': ObjectId('64e3d39d44dd629854d503ad'),\n",
       " 'YEAR': 2017,\n",
       " 'DATE': datetime.datetime(2017, 8, 28, 4, 0),\n",
       " 'TIME': 1135,\n",
       " 'STREET1': '215 LONSDALE  RD',\n",
       " 'ROAD_CLASS': 'Minor Arterial',\n",
       " 'DISTRICT': 'Toronto and East York',\n",
       " 'LATITUDE': 43.690566,\n",
       " 'LONGITUDE': -79.403644,\n",
       " 'LOCCOORD': 'Mid-Block',\n",
       " 'ACCLOC': 'Non Intersection',\n",
       " 'TRAFFCTL': 'No Control',\n",
       " 'VISIBILITY': 'Clear',\n",
       " 'LIGHT': 'Daylight',\n",
       " 'RDSFCOND': 'Dry',\n",
       " 'ACCLASS': 'Non-Fatal Injury',\n",
       " 'IMPACTYPE': 'Sideswipe',\n",
       " 'INVTYPE': 'Motorcycle Driver',\n",
       " 'INVAGE': '75 to 79',\n",
       " 'INJURY': 'Major',\n",
       " 'PEDESTRIAN': False,\n",
       " 'CYCLIST': False,\n",
       " 'AUTOMOBILE': True,\n",
       " 'MOTORCYCLE': True,\n",
       " 'TRUCK': False,\n",
       " 'PASSENGER': False,\n",
       " 'SPEEDING': False,\n",
       " 'REDLIGHT': False,\n",
       " 'ALCOHOL': False,\n",
       " 'DISABILITY': False,\n",
       " 'DIVISION': 'D53',\n",
       " 'Record_ID': 13001}"
      ]
     },
     "execution_count": 9,
     "metadata": {},
     "output_type": "execute_result"
    }
   ],
   "source": [
    "# Confirming the successful importation of the CSV file by demonstrating a sample document in the collection\n",
    "KSI_Toronto.find_one()"
   ]
  },
  {
   "cell_type": "code",
   "execution_count": null,
   "id": "86c131d5",
   "metadata": {},
   "outputs": [],
   "source": []
  }
 ],
 "metadata": {
  "kernelspec": {
   "display_name": "Python 3 (ipykernel)",
   "language": "python",
   "name": "python3"
  },
  "language_info": {
   "codemirror_mode": {
    "name": "ipython",
    "version": 3
   },
   "file_extension": ".py",
   "mimetype": "text/x-python",
   "name": "python",
   "nbconvert_exporter": "python",
   "pygments_lexer": "ipython3",
   "version": "3.10.12"
  }
 },
 "nbformat": 4,
 "nbformat_minor": 5
}
